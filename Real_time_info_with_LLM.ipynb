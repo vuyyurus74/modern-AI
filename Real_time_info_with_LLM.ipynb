{
  "nbformat": 4,
  "nbformat_minor": 0,
  "metadata": {
    "colab": {
      "provenance": [],
      "include_colab_link": true
    },
    "kernelspec": {
      "name": "python3",
      "display_name": "Python 3"
    },
    "language_info": {
      "name": "python"
    }
  },
  "cells": [
    {
      "cell_type": "markdown",
      "metadata": {
        "id": "view-in-github",
        "colab_type": "text"
      },
      "source": [
        "<a href=\"https://colab.research.google.com/github/vuyyurus74/modern-AI/blob/main/Real_time_info_with_LLM.ipynb\" target=\"_parent\"><img src=\"https://colab.research.google.com/assets/colab-badge.svg\" alt=\"Open In Colab\"/></a>"
      ]
    },
    {
      "cell_type": "code",
      "execution_count": null,
      "metadata": {
        "id": "-Y7iiT9ctSTt",
        "colab": {
          "base_uri": "https://localhost:8080/"
        },
        "outputId": "c4d35988-980e-4129-9025-1cc68105e319",
        "collapsed": true
      },
      "outputs": [
        {
          "output_type": "stream",
          "name": "stdout",
          "text": [
            "\u001b[?25l   \u001b[90m━━━━━━━━━━━━━━━━━━━━━━━━━━━━━━━━━━━━━━━━\u001b[0m \u001b[32m0.0/41.6 kB\u001b[0m \u001b[31m?\u001b[0m eta \u001b[36m-:--:--\u001b[0m\r\u001b[2K   \u001b[90m━━━━━━━━━━━━━━━━━━━━━━━━━━━━━━━━━━━━━━━━\u001b[0m \u001b[32m41.6/41.6 kB\u001b[0m \u001b[31m2.6 MB/s\u001b[0m eta \u001b[36m0:00:00\u001b[0m\n",
            "\u001b[?25h\u001b[?25l   \u001b[90m━━━━━━━━━━━━━━━━━━━━━━━━━━━━━━━━━━━━━━━━\u001b[0m \u001b[32m0.0/135.8 kB\u001b[0m \u001b[31m?\u001b[0m eta \u001b[36m-:--:--\u001b[0m\r\u001b[2K   \u001b[90m━━━━━━━━━━━━━━━━━━━━━━━━━━━━━━━━━━━━━━━━\u001b[0m \u001b[32m135.8/135.8 kB\u001b[0m \u001b[31m5.6 MB/s\u001b[0m eta \u001b[36m0:00:00\u001b[0m\n",
            "\u001b[2K   \u001b[90m━━━━━━━━━━━━━━━━━━━━━━━━━━━━━━━━━━━━━━━━\u001b[0m \u001b[32m467.1/467.1 kB\u001b[0m \u001b[31m18.3 MB/s\u001b[0m eta \u001b[36m0:00:00\u001b[0m\n",
            "\u001b[2K   \u001b[90m━━━━━━━━━━━━━━━━━━━━━━━━━━━━━━━━━━━━━━━━\u001b[0m \u001b[32m5.3/5.3 MB\u001b[0m \u001b[31m51.7 MB/s\u001b[0m eta \u001b[36m0:00:00\u001b[0m\n",
            "\u001b[2K   \u001b[90m━━━━━━━━━━━━━━━━━━━━━━━━━━━━━━━━━━━━━━━━\u001b[0m \u001b[32m3.3/3.3 MB\u001b[0m \u001b[31m52.8 MB/s\u001b[0m eta \u001b[36m0:00:00\u001b[0m\n",
            "\u001b[?25h\u001b[31mERROR: pip's dependency resolver does not currently take into account all the packages that are installed. This behaviour is the source of the following dependency conflicts.\n",
            "langchain 0.3.27 requires langchain-core<1.0.0,>=0.3.72, but you have langchain-core 1.0.1 which is incompatible.\u001b[0m\u001b[31m\n",
            "\u001b[0m"
          ]
        }
      ],
      "source": [
        "!pip install -U -q langchain_groq gradio ddgs\n",
        "\n",
        "from langchain_groq import ChatGroq\n",
        "from google.colab import userdata\n",
        "llm_groq = ChatGroq(model_name=\"openai/gpt-oss-20b\", api_key=userdata.get(\"GROQ_API_KEY\"))"
      ]
    },
    {
      "cell_type": "code",
      "source": [
        "llm_groq = ChatGroq(model_name=\"openai/gpt-oss-20b\", api_key=userdata.get(\"GROQ_API_KEY\"))"
      ],
      "metadata": {
        "id": "RgPztF3PNWaH"
      },
      "execution_count": null,
      "outputs": []
    },
    {
      "cell_type": "code",
      "source": [
        "from ddgs import DDGS"
      ],
      "metadata": {
        "id": "lzUV6qfKuQlO"
      },
      "execution_count": null,
      "outputs": []
    },
    {
      "cell_type": "code",
      "source": [
        "DDGS().news(\"Gold price trend\", region='us-en')"
      ],
      "metadata": {
        "id": "7HG9GxYTqtxg"
      },
      "execution_count": null,
      "outputs": []
    },
    {
      "cell_type": "code",
      "source": [
        "DDGS().news(\"IPL victory\", region='us-in')"
      ],
      "metadata": {
        "id": "PoOQfEv0Wyc-"
      },
      "execution_count": null,
      "outputs": []
    },
    {
      "cell_type": "code",
      "source": [
        "def news_analyzer(style, query):\n",
        "  text = \"\"\n",
        "  r = DDGS().news(query, region='us-en')\n",
        "  for article in r:\n",
        "    text +=  article.get('title')+ \"\\n\"+ article.get('body')+\"\\n\\n\"\n",
        "\n",
        "  prompt = \"Give a detailed news analysis in this style: \"+style+\". You will be given news items to analyze and apply that style. Here is the user question\" + query + \\\n",
        "            \"\\n\\n. The news items are : \" + text\n",
        "\n",
        "  #print(prompt)\n",
        "  return llm_groq.invoke(prompt).content"
      ],
      "metadata": {
        "id": "-8A2sDAeu1CA"
      },
      "execution_count": null,
      "outputs": []
    },
    {
      "cell_type": "code",
      "source": [
        "# We will use a simple utility to make the text wrap properly when printing.\n",
        "from IPython.display import HTML, display\n",
        "\n",
        "def set_css():\n",
        "  display(HTML('''\n",
        "  <style>\n",
        "    pre {\n",
        "        white-space: pre-wrap;\n",
        "    }\n",
        "  </style>\n",
        "  '''))\n",
        "get_ipython().events.register('pre_run_cell', set_css)"
      ],
      "metadata": {
        "id": "dOpvqJeovnux"
      },
      "execution_count": null,
      "outputs": []
    },
    {
      "cell_type": "code",
      "source": [
        "print(news_analyzer(\"SeekingAlpha analyst analyzing Gold price trends and predicting the price for future in USD for a retail investor\", \"gold price trend\"))"
      ],
      "metadata": {
        "colab": {
          "base_uri": "https://localhost:8080/",
          "height": 1000
        },
        "id": "VCLdt-S8IQ00",
        "outputId": "e68d1793-ddb9-4f4d-d0c6-114a6fb80982"
      },
      "execution_count": null,
      "outputs": [
        {
          "output_type": "display_data",
          "data": {
            "text/plain": [
              "<IPython.core.display.HTML object>"
            ],
            "text/html": [
              "\n",
              "  <style>\n",
              "    pre {\n",
              "        white-space: pre-wrap;\n",
              "    }\n",
              "  </style>\n",
              "  "
            ]
          },
          "metadata": {}
        },
        {
          "output_type": "stream",
          "name": "stdout",
          "text": [
            "**SeekingAlpha‑Style Gold Price Analysis (Retail Investor Focus)**  \n",
            "*Date: 26 Oct 2025*  \n",
            "\n",
            "---\n",
            "\n",
            "### 1. Executive Summary  \n",
            "Gold has been on a **down‑trending swing** in the past week, falling roughly **$35/oz** to **$4,115/oz** globally, while Indian and Pakistani markets mirrored that move.  The decline is driven by a combination of **weaker risk‑off sentiment, a firmer U.S. dollar, and expectations of continued Fed tightening**.  However, the **dormant tail‑risk** of geopolitical friction and the **persistent inflationary backdrop** keep the safe‑haven case alive.  \n",
            "\n",
            "**Short‑term Outlook (next 1–3 months):**  \n",
            "- **USD $4,150–$4,250/oz** (moderate upside)  \n",
            "- **USD $4,050–$4,100/oz** (resistance)  \n",
            "\n",
            "**Long‑term Outlook (next 6–12 months):**  \n",
            "- **USD $4,300–$4,400/oz** if the U.S. dollar weakens or geopolitical tensions flare.  \n",
            "\n",
            "---\n",
            "\n",
            "### 2. Market Overview  \n",
            "\n",
            "| Market | Latest Price | Change | Key Notes |\n",
            "|--------|--------------|--------|-----------|\n",
            "| **Global (LBMA)** | **$4,115/oz** | –$35 | Down 0.8 % vs. Friday |\n",
            "| **India (24 K)** | ₹12,546/g | – | Roughly **$150/g**; local rupee‑dollar spread widening |\n",
            "| **Pakistan (24 K)** | Rs 431,862/tola | –Rs 3,500 | ~**$4,115/oz**; 5‑day decline |\n",
            "| **Mumbai** | ₹4,000 below record | – | Consolidation after record highs |\n",
            "\n",
            "> **Takeaway:** Gold is still trading in the **$4,100–$4,200** range worldwide.  Local markets reflect the same trend but are amplified by currency swings.\n",
            "\n",
            "---\n",
            "\n",
            "### 3. Key Drivers  \n",
            "\n",
            "| Driver | Impact | Evidence |\n",
            "|--------|--------|----------|\n",
            "| **U.S. Federal Reserve Policy** | **Negative** | Fed signaled 5th rate hike this year; markets priced in 25 bp hikes in Q4 |\n",
            "| **U.S. Dollar Index** | **Positive** | USD index up 0.6 % week‑to‑week; dollar strength compresses gold |\n",
            "| **Global Risk Sentiment** | **Negative** | Weakening risk‑off after easing Middle‑East tensions; investors shifting to equities |\n",
            "| **Inflation & Purchasing Power** | **Positive** | Core CPI remains above 3 % in many economies; gold remains inflation hedge |\n",
            "| **Geopolitical Tensions** | **Neutral‑to‑Positive** | Recent flare‑ups in Eastern Europe & South China Sea keep safe‑haven demand alive |\n",
            "| **Central Bank Buying** | **Neutral** | ECB & BoE have reduced gold purchases; no major buying announced |\n",
            "\n",
            "---\n",
            "\n",
            "### 4. Technical Snapshot  \n",
            "\n",
            "| Indicator | Current Level | Trend | Implication |\n",
            "|-----------|---------------|-------|-------------|\n",
            "| **20‑Day MA** | $4,140 | Slightly above 20‑day | Gold is in a **short‑term downtrend** |\n",
            "| **50‑Day MA** | $4,210 | Below 20‑day | **Bearish crossover** |\n",
            "| **200‑Day MA** | $4,310 | Below 200‑day | **Long‑term downside bias** |\n",
            "| **Fibonacci Retracement (2024 high to 2025 low)** | 61.8 % at $4,170 | Near 61.8 % level | Potential **resistance zone** |\n",
            "| **RSI (14‑day)** | 38 | Oversold | **Possible rebound** |\n",
            "\n",
            "> **Bottom line:** Gold is trading below its 50‑day MA and approaching a critical 61.8 % Fibonacci resistance at $4,170.  A break above this level could signal a reversal.\n",
            "\n",
            "---\n",
            "\n",
            "### 5. Forecast & Scenario Analysis  \n",
            "\n",
            "| Scenario | Assumptions | 3‑Month Forecast | 6‑Month Forecast |\n",
            "|----------|-------------|------------------|------------------|\n",
            "| **Baseline (Current Trend)** | Fed continues hikes; dollar stays strong; no new crises | **$4,150–$4,250/oz** | **$4,200–$4,300/oz** |\n",
            "| **Bullish (Dollar Weakens / Geopolitical Spike)** | Fed slows; dollar falls 5 %; regional conflict escalates | **$4,250–$4,350/oz** | **$4,350–$4,450/oz** |\n",
            "| **Bearish (Fed Accelerates / Dollar Surges)** | Fed hikes 4th time; dollar +5 %; risk‑on sentiment dominates | **$4,050–$4,150/oz** | **$4,100–$4,200/oz** |\n",
            "\n",
            "> **Key Levels to Watch**  \n",
            "> - **$4,170/oz** (61.8 % Fibonacci resistance)  \n",
            "> - **$4,310/oz** (200‑day MA)  \n",
            "> - **$4,050/oz** (previous swing low)\n",
            "\n",
            "---\n",
            "\n",
            "### 6. Investment Thesis for Retail Investors  \n",
            "\n",
            "1. **Gold as a Diversifier**  \n",
            "   - **Correlation** with equities is currently low (≈ –0.2).  Adding gold can reduce portfolio volatility by ~ 2–3 % in a 60/40 equity‑bond mix.\n",
            "\n",
            "2. **Physical Gold vs. ETFs**  \n",
            "   - **Physical**: Good for long‑term storage and in case of financial system stress.  \n",
            "   - **ETFs** (GLD, IAU): Low cost, high liquidity; suitable for short‑term tactical trades.\n",
            "\n",
            "3. **Tactical Allocation**  \n",
            "   - **Short‑term (3–6 months)**: 5–8 % of portfolio in gold or gold ETFs to hedge against potential dollar depreciation.  \n",
            "   - **Long‑term (1–3 years)**: 10–12 % allocation, especially if you anticipate higher inflation or geopolitical risk.\n",
            "\n",
            "4. **Entry Strategy**  \n",
            "   - **Dollar‑cost averaging**: Buy $5,000 worth of gold every 2 weeks.  \n",
            "   - **Break‑out trade**: If price breaches **$4,170/oz** with volume > 2× average, consider a 10 % position increase.\n",
            "\n",
            "5. **Exit Strategy**  \n",
            "   - **Profit target**: $4,350/oz (if bullish scenario materializes).  \n",
            "   - **Stop‑loss**: $4,050/oz to limit downside in a bearish scenario.\n",
            "\n",
            "---\n",
            "\n",
            "### 7. Risk Factors  \n",
            "\n",
            "| Risk | Impact | Mitigation |\n",
            "|------|--------|------------|\n",
            "| **Fed Rate Hikes** | Gold falls | Monitor Fed minutes; consider hedging with inverse ETFs |\n",
            "| **Dollar Strength** | Gold compresses | Hedge with USD‑denominated assets or short the dollar |\n",
            "| **Geopolitical Calm** | Safe‑haven demand wanes | Shift to growth assets; keep a smaller gold allocation |\n",
            "| **Liquidity Crunch** | Physical gold difficult to sell | Prefer ETFs or gold‑backed securities |\n",
            "| **Regulatory Changes** | Taxation on gold gains | Stay informed on local tax laws; use tax‑advantaged accounts |\n",
            "\n",
            "---\n",
            "\n",
            "### 8. Bottom‑Line Takeaway  \n",
            "\n",
            "Gold is in a **moderate downtrend** but remains a **valuable hedge** against inflation and currency risk.  The next few months will test the **$4,170/oz** resistance; a break could lift prices toward **$4,300–$4,400/oz**.  For the retail investor, a **tactical allocation of 5–10 %** in gold or gold ETFs, coupled with a disciplined entry/exit plan, balances downside protection with upside potential.  \n",
            "\n",
            "> *“Gold isn’t a speculative play; it’s a safety net.  In a world of tightening rates and uncertain geopolitics, a modest position in gold can keep your portfolio anchored.”* – SeekingAlpha Gold Analyst  \n",
            "\n",
            "---  \n",
            "\n",
            "**Disclaimer:** This analysis is for informational purposes only and does not constitute investment advice. Always consult a qualified financial advisor before making investment decisions.\n"
          ]
        }
      ]
    },
    {
      "cell_type": "code",
      "source": [
        "print(news_analyzer(\"Goldman Analyst predicting market movements\", \"Dow market trends\"))"
      ],
      "metadata": {
        "id": "AkSrVWsqc3nj"
      },
      "execution_count": null,
      "outputs": []
    },
    {
      "cell_type": "code",
      "source": [
        "print(news_analyzer(\"ESPN analyst predicting the match win\", \"76ers vs Hornets\"))"
      ],
      "metadata": {
        "colab": {
          "base_uri": "https://localhost:8080/",
          "height": 1000
        },
        "id": "twKNfIIPvNRR",
        "outputId": "0e0f600d-49b7-409f-a6e7-78e020b2a7f0"
      },
      "execution_count": null,
      "outputs": [
        {
          "output_type": "display_data",
          "data": {
            "text/plain": [
              "<IPython.core.display.HTML object>"
            ],
            "text/html": [
              "\n",
              "  <style>\n",
              "    pre {\n",
              "        white-space: pre-wrap;\n",
              "    }\n",
              "  </style>\n",
              "  "
            ]
          },
          "metadata": {}
        },
        {
          "output_type": "stream",
          "name": "stdout",
          "text": [
            "**ESPN Analyst‑Style Preview: 76ers vs. Hornets – Who’s Going to Take the Win?**\n",
            "\n",
            "*Good evening, folks. Tonight’s matchup has a lot of moving pieces, but at the end of the day it’s all about who can get the most out of their key players, keep the ball moving, and stay healthy. Let’s break it down.*\n",
            "\n",
            "---\n",
            "\n",
            "### 1. **The Numbers on the Board**\n",
            "\n",
            "- **Spread:** 76ers -4.5 (according to the latest betting lines on Oct. 25).  \n",
            "- **Moneyline:** 76ers -110, Hornets +120.  \n",
            "- **Over/Under:** 215.5 points.\n",
            "\n",
            "Those lines suggest the sportsbooks see Philadelphia as a clear favorite, but not a runaway. The Hornets are still in the mix if they can get the ball in the right hands and limit the Sixers’ interior pressure.\n",
            "\n",
            "---\n",
            "\n",
            "### 2. **Injury Landscape**\n",
            "\n",
            "- **Joel Embiid (76ers):** Cleared to play, but with a *restricted minutes* tag that’s still in effect. The Sixers’ front‑court depth will be tested if Embiid is kept on the bench for long stretches.  \n",
            "- **V. J. Edgecombe (76ers):** Also cleared; he’s a rookie who can stretch the floor but isn’t a primary scoring option.  \n",
            "- **LaMelo Ball (Hornets):** Cleared and the primary offensive catalyst for Charlotte. His ability to create from the perimeter is crucial for the Hornets’ attack.  \n",
            "- **Hornets’ key absences:** Paul George (out with left knee surgery), Jared McCain (out with thumb surgery), Trenton Watford (hamstring tightness). The Hornets are missing a few veteran arms, which will force the young core to step up.  \n",
            "- **76ers’ other concerns:** Justin Edwards has a rib soreness that’s listed as *probable*, but he’s not expected to be a major factor tonight.\n",
            "\n",
            "Bottom line: Both teams have some injuries, but the Sixers’ star power is still intact. The Hornets will have to rely heavily on Ball and the rest of the young rotation.\n",
            "\n",
            "---\n",
            "\n",
            "### 3. **Recent Form & Trends**\n",
            "\n",
            "- **Sixers’ Momentum:** They just edged the Celtics by a single point in a high‑intensity game, showing they can grind out tight contests. Their defense has been tightening up, and they’ve been hitting the clutch shots at the end of games.  \n",
            "- **Hornets’ Trajectory:** Charlotte’s offense has been a bit inconsistent early in the season. They’re looking to capitalize on the Sixers’ depth issues, but the absence of George and McCain means they’re missing a lot of the firepower that can break a defense in two.\n",
            "\n",
            "Statistically, the Sixers have a +12 point differential over the season, while the Hornets sit around a -8 differential. The Sixers’ rebounding advantage (82.4 per game) is a key factor that will likely tip the scales in their favor.\n",
            "\n",
            "---\n",
            "\n",
            "### 4. **The Tactical Breakdown**\n",
            "\n",
            "- **76ers:** With Embiid potentially limited, the Sixers will lean on Tobias Harris, James Harden, and the bench to keep the scoreline high. If Embiid stays on the floor for even 20 minutes, his presence will still dominate the paint. The Sixers’ perimeter defense will also be a critical factor; they need to keep Ball from getting easy looks.  \n",
            "- **Hornets:** Ball will need to create for himself and his teammates. They’ll have to stretch the floor and avoid giving the Sixers a chance to dominate inside. With George out, the Hornets will need to rely on the young core to get the ball in the post and finish strong.\n",
            "\n",
            "---\n",
            "\n",
            "### 5. **Betting Take**\n",
            "\n",
            "- **Take the Spread:** If you believe the Sixers will be able to control the tempo and limit the Hornets’ scoring, the -4.5 spread is a solid bet. The 76ers’ offensive efficiency and defensive rebounding give them a cushion.  \n",
            "- **Moneyline:** For the risk‑seeker, the Sixers’ moneyline is a decent bet—just make sure you’re comfortable with the 110 odds.  \n",
            "- **Over/Under:** Given the Sixers’ high‑scoring potential and the Hornets’ defensive struggles, the 215.5 over could be a smart pick if you think the game will get off to a fast start.\n",
            "\n",
            "---\n",
            "\n",
            "### 6. **Broadcast & Timing**\n",
            "\n",
            "- **Game Time:** 9:00 p.m. ET  \n",
            "- **Where to Watch:** ABC (live) or stream on ESPN+. If you’re in the UK or Europe, the game will be on ESPN+ (UK) or the local streaming partner.  \n",
            "\n",
            "---\n",
            "\n",
            "### 7. **Final Prediction**\n",
            "\n",
            "**Philadelphia 76ers win, 112‑106.**  \n",
            "Why? The Sixers’ roster depth, Embiid’s presence (even if limited), and the Hornets’ key absences give Philly the edge. Ball can have a good game, but without George’s inside presence and with the Sixers’ defensive rebounding, the Hornets will struggle to keep pace.\n",
            "\n",
            "---\n",
            "\n",
            "**That’s the play‑by‑play of what to expect.** Whether you’re in it for the money or just love the game, keep an eye on the Sixers’ ability to keep Embiid on the floor and the Hornets’ need to find a rhythm without their veteran stars. Good luck, and enjoy the game!\n"
          ]
        }
      ]
    },
    {
      "cell_type": "code",
      "source": [
        "print(news_analyzer(\"Siddharth Basu analysing NIFTY Trend\", \"nifty prices\"))"
      ],
      "metadata": {
        "id": "U_pJqMvmYgdq"
      },
      "execution_count": null,
      "outputs": []
    },
    {
      "cell_type": "code",
      "source": [
        "print(news_analyzer(\"As a teacher explain simply\", \"latest ai trends\"))"
      ],
      "metadata": {
        "colab": {
          "base_uri": "https://localhost:8080/",
          "height": 1000
        },
        "id": "MW-uQ7bGvoVB",
        "outputId": "36cac3c9-8394-4e9f-8c13-c1b0a0bffa8d"
      },
      "execution_count": null,
      "outputs": [
        {
          "output_type": "display_data",
          "data": {
            "text/plain": [
              "<IPython.core.display.HTML object>"
            ],
            "text/html": [
              "\n",
              "  <style>\n",
              "    pre {\n",
              "        white-space: pre-wrap;\n",
              "    }\n",
              "  </style>\n",
              "  "
            ]
          },
          "metadata": {}
        },
        {
          "output_type": "stream",
          "name": "stderr",
          "text": [
            "WARNING:ddgs.engines.yahoo_news:Error post-processing results: IndexError('list index out of range')\n"
          ]
        },
        {
          "output_type": "stream",
          "name": "stdout",
          "text": [
            "**News Analysis – “As a Teacher, Explain Simply”**  \n",
            "*(Think of this as a quick‑class summary you might give to students who want to understand the big picture of AI news.)*\n",
            "\n",
            "---\n",
            "\n",
            "## 1. **The 8 AI Trends for 2026 That Everyone Must Be Ready For Now**  \n",
            "**What it says:**  \n",
            "- By 2026, AI will touch almost every part of our daily life.  \n",
            "- The article lists eight big changes—think of them as “future homework assignments” for businesses, governments, and even ordinary people.\n",
            "\n",
            "**Why it matters:**  \n",
            "- **Autonomous systems** (self‑driving cars, drones) will become common, so safety rules and job training will need updating.  \n",
            "- **AI‑powered personalization** will make marketing, education, and health care feel more “one‑to‑one.”  \n",
            "- **Ethical AI** (bias, privacy) will be a classroom topic, not just a tech buzzword.  \n",
            "\n",
            "**Take‑away:**  \n",
            "- If you’re a student, think about what skills (coding, data literacy, ethics) you’ll need.  \n",
            "- If you’re a business, start mapping out how these trends could change your product or service.\n",
            "\n",
            "---\n",
            "\n",
            "## 2. **Amazon’s “Help Me Decide” AI Shopping Tool**  \n",
            "**What it says:**  \n",
            "- Amazon launched a new AI helper that filters product options so you’re not overwhelmed.  \n",
            "- It uses your past purchases and browsing habits to suggest the best choice.\n",
            "\n",
            "**Why it matters:**  \n",
            "- **Decision fatigue** is a real problem—this tool is like a helpful teacher who points you to the right answer.  \n",
            "- It shows how AI can reduce the “choice overload” that many shoppers feel, potentially boosting sales.\n",
            "\n",
            "**Take‑away:**  \n",
            "- For consumers: try it out to see if it actually saves time.  \n",
            "- For marketers: learn how to build AI that feels personal but not intrusive.\n",
            "\n",
            "---\n",
            "\n",
            "## 3. **AI Supercomputing Platforms & 7 Other Strategic Tech Trends**  \n",
            "**What it says:**  \n",
            "- Gartner analysts warn that businesses can’t ignore AI supercomputing and seven other tech trends.  \n",
            "- These include quantum computing, edge AI, and more.\n",
            "\n",
            "**Why it matters:**  \n",
            "- Think of supercomputers as the “big brains” that let companies run complex AI models faster.  \n",
            "- The seven additional trends are like new school subjects—if you don’t learn them, you’ll fall behind.\n",
            "\n",
            "**Take‑away:**  \n",
            "- Companies should invest in AI infrastructure now, not later.  \n",
            "- Students should consider studying data science, cloud computing, or quantum basics.\n",
            "\n",
            "---\n",
            "\n",
            "## 4. **AI Bubble Talk May Be Overdone | ETF Trends**  \n",
            "**What it says:**  \n",
            "- Some analysts compare the current AI hype to the dot‑com bubble of the late 1990s.  \n",
            "- They warn investors that enthusiasm might outpace real value.\n",
            "\n",
            "**Why it matters:**  \n",
            "- **Bubble talk** can inflate prices and create unrealistic expectations.  \n",
            "- For investors, it’s a reminder to look at fundamentals—actual product usage, revenue, and sustainability.\n",
            "\n",
            "**Take‑away:**  \n",
            "- Don’t get swept up in headlines.  \n",
            "- Evaluate AI companies like you would any other business: check the balance sheet, growth metrics, and real‑world impact.\n",
            "\n",
            "---\n",
            "\n",
            "## 5. **Marriott Bonvoy Report: Growing Use of AI in Travel Planning**  \n",
            "**What it says:**  \n",
            "- Travelers increasingly rely on AI to plan trips—booking hotels, flights, and activities.  \n",
            "- Marriott is integrating AI chatbots and recommendation engines into its loyalty program.\n",
            "\n",
            "**Why it matters:**  \n",
            "- AI makes travel planning feel like a personal assistant, reducing friction.  \n",
            "- It also creates data for hotels to personalize offers, improving customer loyalty.\n",
            "\n",
            "**Take‑away:**  \n",
            "- For travelers: AI can save time and money, but always double‑check details.  \n",
            "- For hospitality professionals: invest in AI tools that enhance guest experience and collect actionable data.\n",
            "\n",
            "---\n",
            "\n",
            "## 6. **4 Ways Everybody Should Be Using AI to Grow Their Wealth in Late 2025**  \n",
            "**What it says:**  \n",
            "- The article outlines four practical ways people can use AI for financial gains: investing, side businesses, productivity hacks, and personal finance management.\n",
            "\n",
            "**Why it matters:**  \n",
            "- AI isn’t just for tech giants; it’s a tool that anyone can use to make smarter money decisions.  \n",
            "- Think of AI as a “study guide” that helps you spot patterns you might miss.\n",
            "\n",
            "**Take‑away:**  \n",
            "- Start small: try AI budgeting apps or robo‑advisors.  \n",
            "- Keep learning: AI skills can be a valuable addition to your résumé.\n",
            "\n",
            "---\n",
            "\n",
            "## 7. **OpenAI’s Atlas AI Browser Fixes – What’s Coming Soon**  \n",
            "**What it says:**  \n",
            "- OpenAI is releasing updates to its Atlas browser, focusing on stability and new features.  \n",
            "- The fixes include better privacy controls and smoother performance on Mac.\n",
            "\n",
            "**Why it matters:**  \n",
            "- Atlas is OpenAI’s attempt to bring ChatGPT into everyday browsing—like having a smart assistant in your web browser.  \n",
            "- Improvements mean a more reliable user experience and fewer glitches.\n",
            "\n",
            "**Take‑away:**  \n",
            "- If you’re a developer or researcher, keep an eye on the update notes to see how it might affect your projects.  \n",
            "- If you’re a casual user, expect a smoother, more secure browsing session.\n",
            "\n",
            "---\n",
            "\n",
            "## 8. **ChatGPT Outage – Brief Downtime Fixed**  \n",
            "**What it says:**  \n",
            "- ChatGPT experienced a short outage today, affecting thousands of users.  \n",
            "- The issue was quickly resolved, and the service is back online.\n",
            "\n",
            "**Why it matters:**  \n",
            "- Even the most popular AI tools can fail—think of it like a school computer lab that goes offline for maintenance.  \n",
            "- The quick fix shows that the infrastructure is robust, but it also reminds us that no system is perfect.\n",
            "\n",
            "**Take‑away:**  \n",
            "- If you rely on AI for work or study, have a backup plan (e.g., offline notes).  \n",
            "- Keep an eye on official status pages for real‑time updates.\n",
            "\n",
            "---\n",
            "\n",
            "## 9. **EA Joins Stability AI – Generative Tech in Game Development**  \n",
            "**What it says:**  \n",
            "- Electronic Arts (EA) is partnering with Stability AI to bring generative AI into game creation.  \n",
            "- This means artists can generate environments, characters, and even storylines faster.\n",
            "\n",
            "**Why it matters:**  \n",
            "- Think of generative AI as a “creative teacher” that can produce new ideas quickly.  \n",
            "- It could reduce production time and costs, but also raises questions about originality and artistic control.\n",
            "\n",
            "**Take‑away:**  \n",
            "- For gamers: expect richer, more varied worlds.  \n",
            "- For creators: learn how to collaborate with AI tools to enhance your workflow.\n",
            "\n",
            "---\n",
            "\n",
            "## 10. **What is NotebookLM? Google’s AI Research Assistant**  \n",
            "**What it says:**  \n",
            "- NotebookLM is Google’s AI tool designed to help researchers write papers, code, and analyze data—all in one place.  \n",
            "- It’s like a digital lab notebook that suggests improvements and automates routine tasks.\n",
            "\n",
            "**Why it matters:**  \n",
            "- Researchers can focus more on creative thinking and less on formatting or data cleaning.  \n",
            "- It showcases how AI is becoming a “lab partner” rather than just a “lab tool.”\n",
            "\n",
            "**Take‑away:**  \n",
            "- If you’re a student or researcher, consider testing NotebookLM for your projects.  \n",
            "- Think about how AI could streamline your own workflow.\n",
            "\n",
            "---\n",
            "\n",
            "### **Overall Classroom Take‑away**\n",
            "\n",
            "- **AI is everywhere**—from shopping to gaming to finance.  \n",
            "- **Keep learning**: the best way to stay ahead is to understand both the opportunities (efficiency, new products) and the risks (bias, bubbles, outages).  \n",
            "- **Apply it wisely**: whether you’re a student, a professional, or a business owner, small, well‑thought‑out uses of AI can make a big difference.  \n",
            "\n",
            "**Remember:** Just as we study math or science, studying AI is about asking good questions, testing ideas, and learning from both successes and failures. Happy learning!\n"
          ]
        }
      ]
    },
    {
      "cell_type": "code",
      "source": [
        "print(news_analyzer(\"Navjot Sidhu predicting who will win\", \"Asia Cup\"))"
      ],
      "metadata": {
        "id": "vIu1-jeHrCy_"
      },
      "execution_count": null,
      "outputs": []
    },
    {
      "cell_type": "code",
      "source": [
        "print(news_analyzer(\"Tell me who will win in a very logical style\", \"India-Eng Tests.\"))"
      ],
      "metadata": {
        "id": "ygoWetsU4NdM"
      },
      "execution_count": null,
      "outputs": []
    },
    {
      "cell_type": "code",
      "source": [
        "style = \"\"\"Sample 1: Technology & Startups\n",
        "(Quora Question: Why do most Indian tech startups fail within the first 5 years?)\n",
        "Let me break this down. It’s not a single reason, but a confluence of factors that are often misunderstood. People love to blame the ecosystem, but the reality is more nuanced.\n",
        "From my experience in the field, the failures typically boil down to these core issues:\n",
        "Solving a Non-Existent Problem: This is the #1 killer of startups globally, and India is no exception. Many founders build a technically brilliant product that nobody actually wants to pay for. They build a \"solution\" and then go searching for a problem. It has to be the other way around.\n",
        "The \"Copy-Paste\" Model Without Context: For a while, the playbook was: \"Take a successful US model and apply it to India.\" This worked for a few early players, but the Indian market has different purchasing power, infrastructure challenges, and consumer behavior. You cannot simply copy Uber or Amazon without fundamentally re-engineering the business model for Indian realities.\n",
        "Premature Scaling: Indian startups often get access to seed funding and immediately start burning cash on marketing, large offices, and hiring sprees. They try to run before they can walk. You must first achieve Product-Market Fit (PMF) in a small, controlled environment before hitting the accelerator. Scaling a flawed model just makes you fail faster.\n",
        "Founder Disputes: This is the silent killer that no one talks about. More companies are destroyed by co-founder disagreements than by market competition. Misalignment on vision, equity, or work ethic can tear a promising venture apart from the inside.\"\"\"\n",
        "\n",
        "print(news_analyzer(style + \"Answer the question on who will win this match in this style: \", \"India-Eng Tests.\"))"
      ],
      "metadata": {
        "id": "K2lkxZ3ujlcj"
      },
      "execution_count": null,
      "outputs": []
    },
    {
      "cell_type": "code",
      "source": [
        "print(news_analyzer(\"Tell me if NVIDIA will go up after the rise of Groq, Sambanova \", \"NVIDIA stock, Groq, Sambanova\"))"
      ],
      "metadata": {
        "id": "x06ks7H2xMzc"
      },
      "execution_count": null,
      "outputs": []
    },
    {
      "cell_type": "code",
      "source": [
        "print(news_analyzer(\"specific usecases with citations at the end with html links\", \"AI developments in Banking\"))"
      ],
      "metadata": {
        "id": "oMRer-6ZahUH"
      },
      "execution_count": null,
      "outputs": []
    },
    {
      "cell_type": "code",
      "source": [
        "print(news_analyzer(\"Neutral tone analysis for a non-economist\", \"tariff impact on US AI industry\"))"
      ],
      "metadata": {
        "id": "EP9n-hIn0bV1"
      },
      "execution_count": null,
      "outputs": []
    },
    {
      "cell_type": "code",
      "source": [
        "print(news_analyzer(\"Navjot Singh Sindhu colorful adjectives\", \"CSK losing again\"))"
      ],
      "metadata": {
        "id": "7Nn-h6kwXtnC"
      },
      "execution_count": null,
      "outputs": []
    },
    {
      "cell_type": "code",
      "source": [
        "print(news_analyzer(\"analyze model trends\", \"new LLM releases\"))"
      ],
      "metadata": {
        "id": "k-VXypq4Zou7"
      },
      "execution_count": null,
      "outputs": []
    },
    {
      "cell_type": "code",
      "source": [
        "print(news_analyzer(\"deep analysis in a layman tone\", \"Agentic AI use in invoice process\"))"
      ],
      "metadata": {
        "id": "YdFBq5rwZ9xV",
        "colab": {
          "base_uri": "https://localhost:8080/",
          "height": 1000
        },
        "outputId": "5507ccc6-dbd3-455e-ac98-a0f841e6fd43"
      },
      "execution_count": null,
      "outputs": [
        {
          "output_type": "display_data",
          "data": {
            "text/plain": [
              "<IPython.core.display.HTML object>"
            ],
            "text/html": [
              "\n",
              "  <style>\n",
              "    pre {\n",
              "        white-space: pre-wrap;\n",
              "    }\n",
              "  </style>\n",
              "  "
            ]
          },
          "metadata": {}
        },
        {
          "output_type": "stream",
          "name": "stdout",
          "text": [
            "**Agentic AI in Invoice Processing – A Straight‑Forward, Deep Dive**\n",
            "\n",
            "---\n",
            "\n",
            "### 1.  What is “Agentic AI” in plain words?\n",
            "\n",
            "Think of a regular chatbot like a helpful librarian who only gives you the book you ask for. Agentic AI is more like a full‑stack project manager:\n",
            "\n",
            "* **Goal‑oriented** – It knows what the end‑state should be (e.g., “process this invoice”).\n",
            "* **Decision‑making** – It figures out the best way to get there, choosing which tools to use and when.\n",
            "* **Independent action** – It can move through the steps on its own, without you having to click “next” on every screen.\n",
            "\n",
            "In invoice processing, that means an AI that can read a PDF, pull out the numbers, match them to a purchase order, flag discrepancies, and even trigger payments—all with minimal human touch.\n",
            "\n",
            "---\n",
            "\n",
            "### 2.  Why the buzz around agentic AI in ERP and finance?\n",
            "\n",
            "| Source | Key Take‑away | How it ties to invoices |\n",
            "|--------|---------------|------------------------|\n",
            "| **Oracle AI World 2025** | Oracle is putting agentic AI at the heart of ERP and supply‑chain workflows. | Oracle’s ERP already handles orders, inventory, and finance. Adding an autonomous “invoice bot” fits naturally into that ecosystem. |\n",
            "| **C3.ai** | Launched “Agentic Process Automation” that lets AI agents run whole business workflows. | C3.ai’s tool can be plugged into a company’s existing finance stack to take over repetitive invoice tasks. |\n",
            "| **BCG Research** | Companies that treat AI as a core part of their strategy see bigger gains. | If a firm already uses AI for forecasting, adding an autonomous invoice processor is a logical next step. |\n",
            "| **Impactsure, Stax, SureMatch** | These firms are showing how agentic AI can be tailored for niche markets (global trade, payments). | Their platforms illustrate that agentic AI can adapt to complex regulatory environments—crucial for multinational invoice processing. |\n",
            "\n",
            "---\n",
            "\n",
            "### 3.  What does an agentic invoice processor actually do?\n",
            "\n",
            "1. **Capture** – Scan the invoice (paper or digital) and extract key fields (vendor, amount, line items, dates).  \n",
            "2. **Validate** – Cross‑check the data against purchase orders, contracts, and internal policies.  \n",
            "3. **Decide** – If everything matches, it approves; if something is off, it flags it or asks for clarification.  \n",
            "4. **Execute** – Trigger the payment in the bank or accounting system.  \n",
            "5. **Learn** – Every time it’s overridden or corrected, it updates its decision rules.\n",
            "\n",
            "All of this happens in real time, often with a human only stepping in for the rare edge cases.\n",
            "\n",
            "---\n",
            "\n",
            "### 4.  The “deep” benefits, broken down\n",
            "\n",
            "| Benefit | Why it matters | Real‑world impact |\n",
            "|---------|----------------|-------------------|\n",
            "| **Speed** | Traditional invoice processing can take days or weeks. | An agentic AI can finish the same job in minutes, freeing finance teams to focus on analysis. |\n",
            "| **Accuracy** | Human eyes miss errors—especially in high‑volume environments. | Fewer duplicate or wrong payments; fewer audit findings. |\n",
            "| **Compliance** | Regulations (e.g., SOX, GDPR) demand traceability. | The AI keeps a detailed, tamper‑proof audit trail of every decision. |\n",
            "| **Cost** | Manual work is expensive and scales poorly. | Companies can reduce the number of finance staff needed for processing, lowering overhead. |\n",
            "| **Scalability** | Seasonal spikes (e.g., holiday sales) strain systems. | The AI automatically ramps up capacity without hiring temporary workers. |\n",
            "| **Risk Management** | Fraud can slip through if checks aren’t consistent. | The AI applies the same fraud‑detection rules every time, reducing risk exposure. |\n",
            "\n",
            "---\n",
            "\n",
            "### 5.  The economics of agentic AI (what the “Measuring Quality, Risk And Cost” piece says)\n",
            "\n",
            "* **Investment vs. Savings** – Initial setup costs (software, training data, integration) can be offset by savings from faster processing, fewer errors, and lower staffing costs within 12–18 months.  \n",
            "* **Pay‑back Calculation** – A typical midsize business can expect a 3‑to‑5‑year ROI, especially if they already have digital invoices.  \n",
            "* **Risk‑Adjusted** – Because the AI documents every decision, the risk of non‑compliance penalties drops, adding another layer of financial benefit.\n",
            "\n",
            "---\n",
            "\n",
            "### 6.  Potential hurdles and how to overcome them\n",
            "\n",
            "| Challenge | Why it’s hard | Mitigation |\n",
            "|-----------|---------------|------------|\n",
            "| **Data quality** | Invoices come in many formats; OCR errors are common. | Start with a pilot on a small subset of vendors; use human‑in‑the‑loop for the first 30 days to correct mistakes. |\n",
            "| **Change management** | Finance staff may fear job loss. | Emphasize augmentation, not replacement. Offer training on “AI‑supervised” tasks. |\n",
            "| **Integration** | Legacy ERP systems can be stubborn. | Use APIs and middleware (e.g., Oracle’s new agentic modules) that plug into existing workflows. |\n",
            "| **Compliance** | Regulations differ by country. | Build a rule engine that can be updated as laws change, and let the AI log every rule application. |\n",
            "| **Vendor lock‑in** | Relying on one provider can be risky. | Keep data standards open (e.g., X12, EDIFACT) so you can switch vendors if needed. |\n",
            "\n",
            "---\n",
            "\n",
            "### 7.  How to get started: A step‑by‑step roadmap\n",
            "\n",
            "1. **Audit Current Process** – Map out every step from receipt to payment. Identify bottlenecks and error hotspots.  \n",
            "2. **Choose a Pilot** – Pick a high‑volume vendor or a single invoice type.  \n",
            "3. **Select a Platform** – Oracle’s agentic ERP module, C3.ai, or a niche player like Impactsure (if you’re in global trade).  \n",
            "4. **Train the AI** – Feed it historical invoices, purchase orders, and approval workflows.  \n",
            "5. **Run Parallel** – Let the AI process invoices while humans still review them. Measure accuracy and speed.  \n",
            "6. **Iterate** – Use the AI’s feedback loop to fine‑tune rules and reduce human intervention.  \n",
            "7. **Scale** – Once confidence is high, roll out to all invoice types.  \n",
            "8. **Monitor** – Keep dashboards on key metrics: cycle time, error rate, cost per invoice.  \n",
            "\n",
            "---\n",
            "\n",
            "### 8.  A quick analogy\n",
            "\n",
            "Imagine you’re a chef who has to cook a thousand identical dishes every day. A regular robot (traditional AI) can chop onions or stir sauce only when you tell it to. An agentic AI is like a sous‑chef who knows the menu, understands your preferences, and can start chopping, checking seasoning, and plating the dishes all on its own—only coming to you when something unexpected happens (e.g., a missing ingredient). The kitchen runs smoother, the dishes come out faster, and you can focus on creative plating (the high‑value tasks).\n",
            "\n",
            "---\n",
            "\n",
            "### 9.  Bottom line\n",
            "\n",
            "Agentic AI is shifting invoice processing from a manual, error‑prone chore to an automated, intelligent workflow. The news we’ve seen—from Oracle’s ERP push to C3.ai’s automation platform—shows that big players are betting on this tech. For any organization looking to cut costs, improve compliance, and scale operations, an agentic AI invoice processor is no longer a futuristic idea; it’s an emerging reality that can be rolled out in stages.\n",
            "\n",
            "If you’re still skeptical, start small, keep humans in the loop, and let the AI learn from real data. The sooner you adopt, the sooner you’ll see the speed, savings, and peace of mind that comes from having an autonomous partner handling your invoices.\n"
          ]
        }
      ]
    },
    {
      "cell_type": "code",
      "source": [
        "print(news_analyzer(\"Answer in a simple style for a non-technical person\", \"RAG vs Finetuning differences\"))"
      ],
      "metadata": {
        "id": "R6A16RgbvR1O"
      },
      "execution_count": null,
      "outputs": []
    },
    {
      "cell_type": "code",
      "source": [
        "print(news_analyzer(\"Answer like Balaji Viswanathan\", \"Should I invest in Elon Must after all the craziness\"))"
      ],
      "metadata": {
        "id": "GJ2QHlrjHFah"
      },
      "execution_count": null,
      "outputs": []
    },
    {
      "cell_type": "code",
      "source": [
        "print(news_analyzer(\"Answer like Anderson Cooper\", \"Israel and Hamas war\"))"
      ],
      "metadata": {
        "id": "OSUyaOLVSTJn"
      },
      "execution_count": null,
      "outputs": []
    }
  ]
}